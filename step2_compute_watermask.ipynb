{
 "cells": [
  {
   "cell_type": "markdown",
   "metadata": {},
   "source": [
    "<img style=\"float: left; margin:0px 15px 15px 0px; width:120px\" src=\"https://www.orfeo-toolbox.org/wp-content/uploads/2016/03/logo-orfeo-toolbox.png\">\n",
    "\n",
    "# OTB Guided Tour - JURSE 2019 Vannes France - May 21th\n",
    "## Yannick TANGUY and David YOUSSEFI (CNES, French Space Agency)\n",
    "\n",
    "<br>\n",
    "\n",
    "<b> Press <span style=\"color:black;background:yellow\">SHIFT+ENTER</span> to execute the notebook interactively cell by cell </b></div>\n",
    "\n",
    "\n",
    "## Step 2 : \n",
    "\n",
    "The aim of this second exercise is to compute a water mask, from NDWI2 values\n",
    "- what kind of function do we need to implement ?\n",
    "- are all the pixels valid ?"
   ]
  },
  {
   "cell_type": "code",
   "execution_count": null,
   "metadata": {},
   "outputs": [],
   "source": [
    "def app_radiometricindices(images):\n",
    "    index = 0\n",
    "    for im in images:\n",
    "        # Here we create an application\n",
    "        app = otbApplication.Registry.CreateApplication(\"BandMath\")\n",
    "        # BandMath takes a list of images as input,\n",
    "        # so we have to give a Python list [ image ], or [ image1, image2, .., imageN]\n",
    "        app.SetParameterStringList(\"il\",[im])\n",
    "        app.SetParameterString(\"out\",im.replace(\"RVBPIR.tif\",\"_ndwi2.tif\"))\n",
    "        app.SetParameterString(\"exp\",\"(im1b2-im1b4)/(im1b2+im1b4)\")\n",
    "        app.Execute()\n",
    "        if (index == 0):\n",
    "            tab_App = [app]\n",
    "        else:\n",
    "            tab_App.append(app)\n",
    "        index += 1\n",
    "    return tab_App"
   ]
  }
 ],
 "metadata": {
  "kernelspec": {
   "display_name": "Python 3",
   "language": "python",
   "name": "python3"
  },
  "language_info": {
   "codemirror_mode": {
    "name": "ipython",
    "version": 3
   },
   "file_extension": ".py",
   "mimetype": "text/x-python",
   "name": "python",
   "nbconvert_exporter": "python",
   "pygments_lexer": "ipython3",
   "version": "3.5.6"
  }
 },
 "nbformat": 4,
 "nbformat_minor": 2
}
