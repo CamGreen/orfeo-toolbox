{
 "cells": [
  {
   "cell_type": "markdown",
   "metadata": {},
   "source": [
    "<img style=\"float: left; margin:0px 15px 15px 0px; width:120px\" src=\"https://www.orfeo-toolbox.org/wp-content/uploads/2016/03/logo-orfeo-toolbox.png\">\n",
    "\n",
    "# OTB Guided Tour - JURSE 2019 Vannes France - May 21th\n",
    "## Yannick TANGUY and David YOUSSEFI (CNES, French Space Agency)\n",
    "\n",
    "<br>\n",
    "\n",
    "<b> Press <span style=\"color:black;background:yellow\">SHIFT+ENTER</span> to execute the notebook interactively cell by cell </b></div>\n",
    "\n",
    "## Step 1 : Compute radiometric indices\n",
    "\n",
    "The aim of this first exercise is to compute radiometric indices from Sentinel2 images\n",
    "- The NDVI is already computed\n",
    "- you have to compute the NDWI2 and save it in a new file, suffixed by _NDWI2.tif\n",
    "\n",
    "NDWI2 is computed from green and nir bands (defined by McFeeters, 1996):\n",
    "\n",
    "\\begin{equation}\n",
    "\\mbox{NDWI2}=\\frac{(Xgreen - Xnir)}{(Xgreen + Xnir)}\n",
    "\\end{equation}"
   ]
  },
  {
   "cell_type": "markdown",
   "metadata": {},
   "source": [
    "### Given example: compute ndvi"
   ]
  },
  {
   "cell_type": "code",
   "execution_count": null,
   "metadata": {},
   "outputs": [],
   "source": [
    "import os\n",
    "import otbApplication\n",
    "import rasterio\n",
    "\n",
    "import display_api\n",
    "import utils\n",
    "\n",
    "# Data directory\n",
    "DATA_DIR = \"data\"\n",
    "\n",
    "# Output directory\n",
    "OUTPUT_DIR = \"output\"\n",
    "\n",
    "print(utils.list_images(DATA_DIR,\"_RVBPIR.tif\"))\n",
    "\n",
    "def compute_ndvi(images, out_dir):\n",
    "    \"\"\"\n",
    "    Compute NDVI from images with Red, Green, Blue and NIR bands\n",
    "    :param images: list of images. Their filenames match the pattern [...]_RVBPIR.tif\n",
    "    :param out_dir: path to the output directory\n",
    "    \"\"\"\n",
    "    out_list = []\n",
    "    for im in images:\n",
    "        out = os.path.join(out_dir, os.path.basename(im.replace(\"_RVBPIR.tif\",\"_NDVI.tif\")))\n",
    "        # Here we create an application\n",
    "        app = otbApplication.Registry.CreateApplication(\"BandMath\")\n",
    "        # BandMath takes a list of images as input,\n",
    "        # so we have to give a Python list [ image ], or [ image1, image2, .., imageN]\n",
    "        app.SetParameterStringList(\"il\",[im])\n",
    "        app.SetParameterString(\"out\", out)\n",
    "        # the main parameter is the mathematical expression\n",
    "        # here, we compute NDVI : (nir - red) / (nir + red)\n",
    "        # The corresponding bands for NIR and Red are respectively the 4th and the 3rd bands (b4, b3)\n",
    "        # of the first image (im1)\n",
    "        app.SetParameterString(\"exp\",\"(im1b4-im1b1)/(im1b4+im1b1)\")\n",
    "        app.ExecuteAndWriteOutput()\n",
    "        out_list.append(out)\n",
    "        \n",
    "    return out_list"
   ]
  },
  {
   "cell_type": "code",
   "execution_count": null,
   "metadata": {},
   "outputs": [],
   "source": [
    "# Compute radiometric indices (NDVI & NDWI2) on a stack of images\n",
    "ndvi_filenames_list = compute_ndvi(utils.list_images(DATA_DIR,\"_RVBPIR.tif\"), OUTPUT_DIR)\n",
    "print (ndvi_filenames_list)"
   ]
  },
  {
   "cell_type": "code",
   "execution_count": null,
   "metadata": {},
   "outputs": [],
   "source": [
    "# Display on a map\n",
    "rasters = list(map(rasterio.open, ndvi_filenames_list))\n",
    "overnames = list(map(os.path.basename, ndvi_filenames_list))\n",
    "m, dc = display_api.rasters_on_map(rasters, OUTPUT_DIR, overnames)\n",
    "m"
   ]
  },
  {
   "cell_type": "markdown",
   "metadata": {},
   "source": [
    "### Compute ndwi : <b> Fill the <span style=\"color:black;background:yellow\">compute_ndwi</span> function </b> "
   ]
  },
  {
   "cell_type": "code",
   "execution_count": null,
   "metadata": {},
   "outputs": [],
   "source": [
    "def compute_ndwi(images, out_dir):\n",
    "    \"\"\"\n",
    "    Compute NDWI2 from images with Red, Green, Blue and NIR bands\n",
    "    :param images: list of images. Their filenames match the pattern [...]_RVBPIR.tif\n",
    "    :param out_dir: path to the output directory\n",
    "    \"\"\"\n",
    "    # TODO: fill the compute_ndwi_function\n",
    "    return None"
   ]
  },
  {
   "cell_type": "code",
   "execution_count": null,
   "metadata": {},
   "outputs": [],
   "source": [
    "# Compute radiometric indices (NDVI & NDWI2) on a stack of images\n",
    "ndwi_filenames_list = compute_ndwi(utils.list_images(DATA_DIR,\"_RVBPIR.tif\"), OUTPUT_DIR)\n",
    "if ndwi_filenames_list is not None:\n",
    "    print (ndwi_filenames_list)http://localhost:8888/notebooks/step1_compute_radiometric_indices.ipynb#\n",
    "else:\n",
    "    print (\"TODO: fill the compute_ndwi_function\")"
   ]
  },
  {
   "cell_type": "code",
   "execution_count": null,
   "metadata": {},
   "outputs": [],
   "source": [
    "# Display on a map\n",
    "rasters = list(map(rasterio.open, ndwi_filenames_list))\n",
    "overnames = list(map(os.path.basename, ndwi_filenames_list))\n",
    "m, dc = display_api.rasters_on_map(rasters, OUTPUT_DIR, overnames)\n",
    "m"
   ]
  },
  {
   "cell_type": "markdown",
   "metadata": {},
   "source": [
    "### Go to the [Step 2](./step2_compute_watermask.ipynb)"
   ]
  }
 ],
 "metadata": {
  "kernelspec": {
   "display_name": "Python 3",
   "language": "python",
   "name": "python3"
  },
  "language_info": {
   "codemirror_mode": {
    "name": "ipython",
    "version": 3
   },
   "file_extension": ".py",
   "mimetype": "text/x-python",
   "name": "python",
   "nbconvert_exporter": "python",
   "pygments_lexer": "ipython3",
   "version": "3.5.6"
  }
 },
 "nbformat": 4,
 "nbformat_minor": 2
}
