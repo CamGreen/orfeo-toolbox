{
 "cells": [
  {
   "cell_type": "markdown",
   "metadata": {},
   "source": [
    "<img style=\"float: left; margin:0px 15px 15px 0px; width:120px\" src=\"https://www.orfeo-toolbox.org/wp-content/uploads/2016/03/logo-orfeo-toolbox.png\">\n",
    "\n",
    "# OTB Guided Tour - FOSS4G 2019 Bucharest\n",
    "## Yannick TANGUY and David YOUSSEFI (CNES, French Space Agency)\n",
    "\n",
    "<br>\n",
    "\n",
    "<b> Press <span style=\"color:black;background:yellow\">SHIFT+ENTER</span> to execute the notebook interactively cell by cell </b></div>\n",
    "\n",
    "## Step 1 : Compute radiometric indices\n",
    "\n",
    "The aim of this first exercise is to compute radiometric indices from Sentinel2 images\n",
    "- The NDVI is already computed\n",
    "- you have to compute the NDWI2 and save it in a new file, suffixed by _NDWI2.tif\n",
    "\n",
    "NDWI2 is computed from green and nir bands (defined by McFeeters, 1996):\n",
    "\n",
    "\\begin{equation}\n",
    "\\mbox{NDWI2}=\\frac{(Xgreen - Xnir)}{(Xgreen + Xnir)}\n",
    "\\end{equation}"
   ]
  },
  {
   "cell_type": "code",
   "execution_count": null,
   "metadata": {},
   "outputs": [],
   "source": [
    "import os\n",
    "from glob import glob\n",
    "import ipywidgets\n",
    "\n",
    "# Data directory\n",
    "DATA_DIR = \"data\"\n",
    "\n",
    "# Output directory\n",
    "OUTPUT_DIR = \"output\"\n",
    "\n",
    "# Date list\n",
    "date_buttons = ipywidgets.ToggleButtons(\n",
    "    options=[\"20180711\", \"20180701\", \"20180621\"],\n",
    "    description=\"Dates:\")\n",
    "\n",
    "date_buttons"
   ]
  },
  {
   "cell_type": "markdown",
   "metadata": {},
   "source": [
    "### Given example: compute ndvi\n",
    "\n",
    "Here we create an application with ```otbApplication.Registry.CreateApplication(\"BandMath\")```\n",
    "\n",
    "BandMath takes a list of images as input, so we have to give a Python list with ```\"il\"``` parameter : [image], or [image1, image2, .., imageN] and the main parameter is the mathematical expression ```\"exp\"```.\n",
    "\n",
    "Here, we compute NDVI :\n",
    "\\begin{equation}\n",
    "\\mbox{NDVI}=\\frac{(Xnir - Xred)}{(Xnir + Xred)}\n",
    "\\end{equation}\n",
    "\n",
    "The corresponding bands for NIR and Red are respectively the 4th and the 1st bands (b4, b1) of the first image (im1)"
   ]
  },
  {
   "cell_type": "code",
   "execution_count": null,
   "metadata": {},
   "outputs": [],
   "source": [
    "import otbApplication\n",
    "\n",
    "# input / output files\n",
    "DATE = date_buttons.value\n",
    "im = glob(os.path.join(DATA_DIR, \"*{}*.tif\".format(DATE)))[0]\n",
    "ndvi = os.path.join(OUTPUT_DIR, \"NDVI.tif\")\n",
    "\n",
    "# Given example\n",
    "def compute_ndvi():\n",
    "    app = otbApplication.Registry.CreateApplication(\"BandMath\")\n",
    "    app.SetParameterStringList(\"il\",[im])\n",
    "    app.SetParameterString(\"out\", ndvi)\n",
    "    app.SetParameterString(\"exp\", \"(im1b4-im1b1)/(im1b4+im1b1)\")\n",
    "    exit_code = app.ExecuteAndWriteOutput()\n",
    "\n",
    "compute_ndvi()"
   ]
  },
  {
   "cell_type": "code",
   "execution_count": null,
   "metadata": {},
   "outputs": [],
   "source": [
    "import rasterio\n",
    "import display_api\n",
    "raster = rasterio.open(ndvi)\n",
    "m, dc = display_api.rasters_on_map([raster], OUTPUT_DIR, [DATE+\"_NDVI\"])\n",
    "m"
   ]
  },
  {
   "cell_type": "markdown",
   "metadata": {},
   "source": [
    "### Compute ndwi : <b> Fill the <span style=\"color:black;background:yellow\">compute_ndwi</span> function </b> \n",
    "\n",
    "**Reminder** : NDWI2 is computed from green and nir bands (defined by McFeeters, 1996):\n",
    "\n",
    "\\begin{equation}\n",
    "\\mbox{NDWI2}=\\frac{(Xgreen - Xnir)}{(Xgreen + Xnir)}\n",
    "\\end{equation}"
   ]
  },
  {
   "cell_type": "code",
   "execution_count": null,
   "metadata": {},
   "outputs": [],
   "source": [
    "import otbApplication\n",
    "\n",
    "# input / output files\n",
    "DATE = date_buttons.value\n",
    "im = glob(os.path.join(DATA_DIR, \"*{}*.tif\".format(DATE)))[0]\n",
    "ndwi = os.path.join(OUTPUT_DIR, \"NDWI.tif\")\n",
    "\n",
    "def compute_ndwi():\n",
    "    # Fill the compute_ndwi function\n",
    "    pass\n",
    "    \n",
    "compute_ndwi()"
   ]
  },
  {
   "cell_type": "code",
   "execution_count": null,
   "metadata": {},
   "outputs": [],
   "source": [
    "import rasterio\n",
    "import display_api\n",
    "raster = rasterio.open(ndwi)\n",
    "m, dc = display_api.rasters_on_map([raster], OUTPUT_DIR, [DATE+\"_NDWI\"])\n",
    "m"
   ]
  },
  {
   "cell_type": "markdown",
   "metadata": {},
   "source": [
    "### Go to the [Step 2](./step2_compute_watermask.ipynb)"
   ]
  }
 ],
 "metadata": {
  "kernelspec": {
   "display_name": "Python 3",
   "language": "python",
   "name": "python3"
  },
  "language_info": {
   "codemirror_mode": {
    "name": "ipython",
    "version": 3
   },
   "file_extension": ".py",
   "mimetype": "text/x-python",
   "name": "python",
   "nbconvert_exporter": "python",
   "pygments_lexer": "ipython3",
   "version": "3.5.6"
  }
 },
 "nbformat": 4,
 "nbformat_minor": 2
}
