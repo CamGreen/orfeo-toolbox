{
 "cells": [
  {
   "cell_type": "markdown",
   "metadata": {},
   "source": [
    "<img style=\"float: left; margin:0px 15px 15px 0px; width:120px\" src=\"https://www.orfeo-toolbox.org/wp-content/uploads/2016/03/logo-orfeo-toolbox.png\">\n",
    "\n",
    "# OTB Guided Tour - JURSE 2019 Vannes France - May 21th\n",
    "## Yannick TANGUY and David YOUSSEFI (CNES, French Space Agency)\n",
    "\n",
    "<br>\n",
    "\n",
    "Orfeo ToolBox (OTB) is an open-source library for remote sensing images processing. It has been initiated and funded by CNES to promote the use and the exploitation of the satellites images. Orfeo ToolBox aims at enabling large images state-of-the-art processing even on limited resources laptops, and is shipped with a set of extensible ready-to-use tools for classical remote sensing tasks, as well as a fully integrated, end-users oriented software called Monteverdi ; OTB is also accessible via Quantum GIS processing module.\n",
    "\n",
    "This tutorial will present the ORFEO Toolbox and showcase available applications for processing and manipulating satellite imagery.\n",
    "\n",
    "<b> Press <span style=\"color:black;background:yellow\">SHIFT+ENTER</span> to execute the notebook interactively cell by cell </b></div>\n",
    "\n"
   ]
  },
  {
   "cell_type": "markdown",
   "metadata": {},
   "source": [
    "## Sentinel 2 Dataset"
   ]
  },
  {
   "cell_type": "markdown",
   "metadata": {},
   "source": [
    "### Information about dataset: directory (./data), band order, mgrs, level, dates"
   ]
  },
  {
   "cell_type": "code",
   "execution_count": null,
   "metadata": {},
   "outputs": [],
   "source": [
    "from glob import glob\n",
    "import rasterio\n",
    "import os\n",
    "import display_api\n",
    "import utils\n",
    "\n",
    "# Data directory\n",
    "DATA_DIR = \"data\"\n",
    "\n",
    "# Output directory\n",
    "OUTPUT_DIR = \"output\"\n",
    "\n",
    "# Color bands\n",
    "COLOR_BANDS = ['Red', 'Green', 'Blue', 'NIR']\n",
    "\n",
    "# Product information\n",
    "MGRS = \"30TWT\"\n",
    "LEVEL = \"L2A\"\n",
    "\n",
    "# Date list\n",
    "print (list(map(lambda x:os.path.basename(x)[11:11+8],glob(os.path.join(DATA_DIR, \"SENTINEL2*.tif\")))))"
   ]
  },
  {
   "cell_type": "markdown",
   "metadata": {},
   "source": [
    "### Choose your dataset (by date)"
   ]
  },
  {
   "cell_type": "code",
   "execution_count": null,
   "metadata": {},
   "outputs": [],
   "source": [
    "DATE = \"20180805\"\n",
    "raster = rasterio.open(glob(os.path.join(DATA_DIR, \"SENTINEL2?_{0}-*_{1}_T{2}_*.tif\".format(DATE, LEVEL, MGRS)))[0])"
   ]
  },
  {
   "cell_type": "markdown",
   "metadata": {},
   "source": [
    "### Display with imshow"
   ]
  },
  {
   "cell_type": "code",
   "execution_count": null,
   "metadata": {},
   "outputs": [],
   "source": [
    "# Plot bands from SENTINEL-2 product\n",
    "display_api.imshow_RGBPIR(raster, colors=COLOR_BANDS)"
   ]
  },
  {
   "cell_type": "markdown",
   "metadata": {},
   "source": [
    "### Display on a map"
   ]
  },
  {
   "cell_type": "code",
   "execution_count": null,
   "metadata": {
    "scrolled": true
   },
   "outputs": [],
   "source": [
    "# displays a raster on a ipyleaflet map (\n",
    "#    rasters_list: rasters to display (rasterio image),\n",
    "#    out_dir: path to the output directory (preview writing)\n",
    "#    overlay_names_list: name of the overlays for the map)\n",
    "m, dc = display_api.rasters_on_map([raster], OUTPUT_DIR, [DATE])\n",
    "m"
   ]
  },
  {
   "cell_type": "code",
   "execution_count": null,
   "metadata": {},
   "outputs": [],
   "source": [
    "startx, starty, endx, endy = display_api.get_bounding_box_from_draw(raster, dc)\n",
    "print (startx, starty, endx, endy)"
   ]
  },
  {
   "cell_type": "markdown",
   "metadata": {},
   "source": [
    "### Go to the [Step 1](./step1_compute_radiometric_indices.ipynb)"
   ]
  }
 ],
 "metadata": {
  "kernelspec": {
   "display_name": "Python 3",
   "language": "python",
   "name": "python3"
  },
  "language_info": {
   "codemirror_mode": {
    "name": "ipython",
    "version": 3
   },
   "file_extension": ".py",
   "mimetype": "text/x-python",
   "name": "python",
   "nbconvert_exporter": "python",
   "pygments_lexer": "ipython3",
   "version": "3.5.6"
  }
 },
 "nbformat": 4,
 "nbformat_minor": 2
}
